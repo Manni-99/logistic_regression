{
 "cells": [
  {
   "cell_type": "markdown",
   "id": "retired-darkness",
   "metadata": {},
   "source": [
    "# Classification with the perceptron and logistic regression\n",
    "\n",
    "__Individual assignment__\n",
    "\n",
    "Author of the assignment: Pierre Nugues\n",
    "\n",
    "__Student name__:"
   ]
  },
  {
   "cell_type": "markdown",
   "id": "former-expense",
   "metadata": {},
   "source": [
    "## Objectives\n",
    "\n",
    "The objectives of this second assignment are to:\n",
    "\n",
    "1.  Write a linear regression program using gradient descent;\n",
    "2.  Write linear classifiers using the perceptron algorithm and logistic regression;\n",
    "3.  Experiment variations of the algorithms;\n",
    "4.  Evaluate your classifiers;\n",
    "5.  Experiment with popular tools;\n",
    "6.  Read a scientific article on optimization techniques and comment it;\n",
    "7.  Present your code, results, and comments in a short dissertation."
   ]
  },
  {
   "cell_type": "markdown",
   "id": "lasting-booking",
   "metadata": {},
   "source": [
    "## Overview\n",
    "\n",
    "The gradient descent is a basic technique to estimate the parameters of cost functions. \n",
    "1. You will first use the gradient descent method to implement linear regression. \n",
    "2. You will then program the perceptron algorithm. \n",
    "3. Finally, you will improve the threshold function with the logistic curve (logistic regression). \n",
    "\n",
    "You will try various configurations and study their influence on the learning speed and accuracy."
   ]
  },
  {
   "cell_type": "markdown",
   "id": "accredited-salad",
   "metadata": {},
   "source": [
    "##  Programming language\n",
    "As programming language, you will use Python and write your code in this notebook.\n",
    "\n",
    "You need to have a comprehensive Python distribution such as Anaconda (https://www.anaconda.com/products/individual). This distribution is available on the student computers at the computer science department.\n",
    "Finally, you start a notebook by typing:\n",
    "\n",
    "`jupyter lab`\n",
    "\n",
    "in a terminal window and you select the notebook by clicking on it in the left pane.\n",
    "You run the pieces of code by typing shift+enter. You can also use a programming tool like VS Code or PyCharm."
   ]
  },
  {
   "cell_type": "markdown",
   "id": "aerial-bedroom",
   "metadata": {},
   "source": [
    "## Imports\n",
    "Imports you may use"
   ]
  },
  {
   "cell_type": "code",
   "execution_count": 264,
   "id": "complete-mileage",
   "metadata": {},
   "outputs": [],
   "source": [
    "import numpy as np\n",
    "import matplotlib.pyplot as plt\n",
    "from matplotlib import cm\n",
    "from mpl_toolkits.mplot3d import Axes3D"
   ]
  },
  {
   "cell_type": "markdown",
   "id": "similar-stanford",
   "metadata": {},
   "source": [
    "## Linear Regression\n",
    "\n",
    "You will implement the gradient descent method as explained in pages 694-697 in Russell-Norvig (pp. 719--720 in the 3rd ed.) and in the slides to compute regression lines. You will implement the stochastic and batch versions of the algorithm.\n",
    "\n",
    "You must try to do it yourself first. If you encounter difficulties, you also have the solution to this exercise in the section _Solution to linear regression_ below. See: https://github.com/pnugues/edap01/tree/master/gradient_descent_practice"
   ]
  },
  {
   "cell_type": "markdown",
   "id": "included-privacy",
   "metadata": {},
   "source": [
    "### Your implementation of linear regression\n",
    "You will implement a regression program to predict the counts of _A_'s in a text from the total count of letters. You will apply it on two data sets corresponding to letter counts in the 15 chapters of the French and English versions of _Salammbô_, where the first column is the total count of characters and the second one, the count of A's. \n",
    "\n",
    "Start with either French or English and when your program ready, test it on the other language."
   ]
  },
  {
   "cell_type": "code",
   "execution_count": 265,
   "id": "southern-representative",
   "metadata": {},
   "outputs": [],
   "source": [
    "stat_fr = np.array([[36961, 2503],\n",
    "                    [43621, 2992],\n",
    "                    [15694, 1042],\n",
    "                    [36231, 2487],\n",
    "                    [29945, 2014],\n",
    "                    [40588, 2805],\n",
    "                    [75255, 5062],\n",
    "                    [37709, 2643],\n",
    "                    [30899, 2126],\n",
    "                    [25486, 1784],\n",
    "                    [37497, 2641],\n",
    "                    [40398, 2766],\n",
    "                    [74105, 5047],\n",
    "                    [76725, 5312],\n",
    "                    [18317, 1215]])\n",
    "\n",
    "stat_en = np.array([[35680, 2217],\n",
    "                    [42514, 2761],\n",
    "                    [15162, 990],\n",
    "                    [35298, 2274],\n",
    "                    [29800, 1865],\n",
    "                    [40255, 2606],\n",
    "                    [74532, 4805],\n",
    "                    [37464, 2396],\n",
    "                    [31030, 1993],\n",
    "                    [24843, 1627],\n",
    "                    [36172, 2375],\n",
    "                    [39552, 2560],\n",
    "                    [72545, 4597],\n",
    "                    [75352, 4871],\n",
    "                    [18031, 1119]])"
   ]
  },
  {
   "cell_type": "markdown",
   "id": "stuffed-albania",
   "metadata": {},
   "source": [
    "From the datasets above, tell what is ${X}$ and $\\mathbf{y}$. Extract:\n",
    "1. The ${X}$ matrix, where you will have a column to model the intercept;\n",
    "2. The $\\mathbf{y}$ vector\n",
    "\n",
    "from these arrays."
   ]
  },
  {
   "cell_type": "code",
   "execution_count": 266,
   "id": "ultimate-remark",
   "metadata": {},
   "outputs": [],
   "source": [
    "import numpy as np\n",
    "stat_fr = np.array([[36961, 2503],\n",
    "                    [43621, 2992],\n",
    "                    [15694, 1042],\n",
    "                    [36231, 2487],\n",
    "                    [29945, 2014],\n",
    "                    [40588, 2805],\n",
    "                    [75255, 5062],\n",
    "                    [37709, 2643],\n",
    "                    [30899, 2126],\n",
    "                    [25486, 1784],\n",
    "                    [37497, 2641],\n",
    "                    [40398, 2766],\n",
    "                    [74105, 5047],\n",
    "                    [76725, 5312],\n",
    "                    [18317, 1215]])\n",
    "\n",
    "stat_en = np.array([[35680, 2217],\n",
    "                    [42514, 2761],\n",
    "                    [15162, 990],\n",
    "                    [35298, 2274],\n",
    "                    [29800, 1865],\n",
    "                    [40255, 2606],\n",
    "                    [74532, 4805],\n",
    "                    [37464, 2396],\n",
    "                    [31030, 1993],\n",
    "                    [24843, 1627],\n",
    "                    [36172, 2375],\n",
    "                    [39552, 2560],\n",
    "                    [72545, 4597],\n",
    "                    [75352, 4871],\n",
    "                    [18031, 1119]])\n",
    "\n",
    "x_fr = np.column_stack((np.ones(stat_fr.shape[0]), stat_fr[:, 0]))\n",
    "y_fr = stat_fr[:, 1]\n",
    "\n",
    "x_en = np.column_stack((np.ones(stat_en.shape[0]), stat_en[:, 0]))\n",
    "y_en = stat_en[:, 1]"
   ]
  },
  {
   "cell_type": "markdown",
   "id": "disabled-facing",
   "metadata": {},
   "source": [
    "Scale the arrays so that they fit in the range [0, 1] on the $x$ and $y$ axes. "
   ]
  },
  {
   "cell_type": "code",
   "execution_count": 267,
   "id": "confidential-purple",
   "metadata": {},
   "outputs": [
    {
     "name": "stdout",
     "output_type": "stream",
     "text": [
      "Scaled X_fr:\n",
      " [[1.         0.34846226]\n",
      " [1.         0.45758713]\n",
      " [1.         0.        ]\n",
      " [1.         0.33650112]\n",
      " [1.         0.23350428]\n",
      " [1.         0.40789107]\n",
      " [1.         0.97591388]\n",
      " [1.         0.36071832]\n",
      " [1.         0.24913569]\n",
      " [1.         0.16044305]\n",
      " [1.         0.35724468]\n",
      " [1.         0.4047779 ]\n",
      " [1.         0.957071  ]\n",
      " [1.         1.        ]\n",
      " [1.         0.04297816]]\n",
      "Scaled y_fr:\n",
      " [0.34215457 0.45667447 0.         0.33840749 0.22763466 0.41288056\n",
      " 0.94145199 0.37494145 0.25386417 0.17377049 0.37447307 0.40374707\n",
      " 0.93793911 1.         0.04051522]\n",
      "Scaled X_en:\n",
      " [[1.         0.34088719]\n",
      " [1.         0.45442765]\n",
      " [1.         0.        ]\n",
      " [1.         0.33454062]\n",
      " [1.         0.24319654]\n",
      " [1.         0.41689649]\n",
      " [1.         0.98637647]\n",
      " [1.         0.37052667]\n",
      " [1.         0.26363183]\n",
      " [1.         0.16084067]\n",
      " [1.         0.34906131]\n",
      " [1.         0.40521681]\n",
      " [1.         0.95336435]\n",
      " [1.         1.        ]\n",
      " [1.         0.04766573]]\n",
      "Scaled y_en:\n",
      " [0.31615563 0.45632569 0.         0.33084257 0.22545736 0.41638753\n",
      " 0.98299407 0.36227776 0.25843855 0.16413296 0.35686679 0.40453491\n",
      " 0.92939964 1.         0.03323886]\n"
     ]
    }
   ],
   "source": [
    "\n",
    "def min_max_scale(array):\n",
    "    min_val = np.min(array)\n",
    "    max_val = np.max(array)\n",
    "    return (array - min_val) / (max_val - min_val)\n",
    "\n",
    "X_fr_scaled = min_max_scale(stat_fr[:, 0]) \n",
    "y_fr_scaled = min_max_scale(stat_fr[:, 1]) \n",
    "\n",
    "X_en_scaled = min_max_scale(stat_en[:, 0])\n",
    "y_en_scaled = min_max_scale(stat_en[:, 1])\n",
    "\n",
    "X_fr_final = np.column_stack((np.ones(len(X_fr_scaled)), X_fr_scaled))\n",
    "X_en_final = np.column_stack((np.ones(len(X_en_scaled)), X_en_scaled))\n",
    "\n",
    "print(\"Scaled X_fr:\\n\", X_fr_final)\n",
    "print(\"Scaled y_fr:\\n\", y_fr_scaled)\n",
    "print(\"Scaled X_en:\\n\", X_en_final)\n",
    "print(\"Scaled y_en:\\n\", y_en_scaled)\n",
    "\n"
   ]
  },
  {
   "cell_type": "markdown",
   "id": "herbal-valve",
   "metadata": {},
   "source": [
    "#### Gradient descent"
   ]
  },
  {
   "cell_type": "markdown",
   "id": "timely-anaheim",
   "metadata": {},
   "source": [
    "Implement the descent functions. You will pass `X`, `y`, the learning rate in the $\\alpha$ variable, the initial weight vector in `w`, the tolerance in the $\\epsilon$ variable, the maximal number of epochs in `epochs`. You will return `w`."
   ]
  },
  {
   "cell_type": "markdown",
   "id": "challenging-shopper",
   "metadata": {},
   "source": [
    "Batch descent"
   ]
  },
  {
   "cell_type": "code",
   "execution_count": 268,
   "id": "impressive-thickness",
   "metadata": {},
   "outputs": [],
   "source": [
    "def fit_batch(X, y, alpha, w,\n",
    "                  epochs=500,\n",
    "                  epsilon=1.0e-5):\n",
    "    m = X.shape[0]\n",
    "    y = y.reshape(1, -1)\n",
    "    \n",
    "    for epoch in range(epochs):\n",
    "        y_pred = X @ w\n",
    "        \n",
    "        error = y_pred - y\n",
    "        \n",
    "        gradient = (1/m) * X.T @ error\n",
    "        \n",
    "        w_new = w - alpha * gradient\n",
    "        \n",
    "        if np.linalg.norm(w_new - w, ord=2) < epsilon:\n",
    "            break\n",
    "        \n",
    "        w = w_new\n",
    "        \n",
    "    return w"
   ]
  },
  {
   "cell_type": "markdown",
   "id": "arctic-tobacco",
   "metadata": {},
   "source": [
    "Stochastic descent"
   ]
  },
  {
   "cell_type": "code",
   "execution_count": 269,
   "id": "improved-surrey",
   "metadata": {},
   "outputs": [],
   "source": [
    "import numpy as np\n",
    "def fit_stoch(X, y, alpha, w,\n",
    "                  epochs=500,\n",
    "                  epsilon=1.0e-5):\n",
    "    m = X.shape[0]  \n",
    "\n",
    "    y = y.reshape(-1, 1)\n",
    "\n",
    "    for epoch in range(epochs):\n",
    "        prev_w = np.copy(w) \n",
    "\n",
    "        indices = np.random.permutation(m)\n",
    "        X_shuffled = X[indices]\n",
    "        y_shuffled = y[indices] \n",
    "\n",
    "        for i in range(m):\n",
    "            x_i = X_shuffled[i, :].reshape(1, -1)  # (1, n)\n",
    "            y_i = y_shuffled[i].reshape(1, 1)  # (1, 1)\n",
    "\n",
    "            y_pred = x_i @ w  \n",
    "\n",
    "            error = y_pred - y_i\n",
    "\n",
    "            gradient = x_i.T @ error  # (n x 1)\n",
    "\n",
    "            w = w - alpha * gradient\n",
    "\n",
    "        if np.linalg.norm(w - prev_w, ord=2) < epsilon:\n",
    "            break\n",
    "    \n",
    "    return w"
   ]
  },
  {
   "cell_type": "markdown",
   "id": "becoming-upset",
   "metadata": {},
   "source": [
    "#### Applying batch descent"
   ]
  },
  {
   "cell_type": "markdown",
   "id": "atomic-given",
   "metadata": {},
   "source": [
    "Apply the batch descent and print the final weight values "
   ]
  },
  {
   "cell_type": "code",
   "execution_count": 270,
   "id": "equipped-consensus",
   "metadata": {},
   "outputs": [
    {
     "name": "stdout",
     "output_type": "stream",
     "text": [
      "Optimized Weights:\n",
      " [[0.3154059  0.42097297 0.         0.31195176 0.20983883 0.38060274\n",
      "  0.86785196 0.3456296  0.23401779 0.16018561 0.34519783 0.37218328\n",
      "  0.86461371 0.92182286 0.03734786]\n",
      " [0.05874592 0.07840832 0.         0.05810257 0.03908353 0.07088916\n",
      "  0.16164176 0.06437524 0.04358698 0.02983537 0.06429482 0.069321\n",
      "  0.16103862 0.17169411 0.00695623]]\n"
     ]
    }
   ],
   "source": [
    "w_initial = np.zeros((2, 1))  \n",
    "alpha = 0.01  \n",
    "epsilon = 1e-5 \n",
    "epochs = 1000  \n",
    "\n",
    "w_optimized = fit_batch(X_fr_final, y_fr_scaled, alpha, w_initial, epochs, epsilon)\n",
    "print(\"Optimized Weights:\\n\", w_optimized)"
   ]
  },
  {
   "cell_type": "markdown",
   "id": "heavy-asbestos",
   "metadata": {},
   "source": [
    "Visualize the points of your dataset as well as the regression lines you obtain using matplotlib or another similar program."
   ]
  },
  {
   "cell_type": "code",
   "execution_count": 271,
   "id": "variable-sphere",
   "metadata": {},
   "outputs": [],
   "source": [
    "def plot_regression(X, y, w, title=\"Regression Line\"):\n",
    "    plt.figure(figsize=(8, 6))\n",
    "    plt.clf()  \n",
    "\n",
    "    plt.scatter(X[:, 1], y, color='blue', label=\"Data Points\", alpha=0.6)\n",
    "\n",
    "    X_line = np.linspace(X[:, 1].min(), X[:, 1].max(), 100).reshape(-1, 1)  \n",
    "    X_line_bias = np.column_stack((np.ones(X_line.shape[0]), X_line)) \n",
    "\n",
    "    y_pred = X_line_bias @ w  \n",
    "    plt.plot(X_line, y_pred, color='red', label=\"Regression Line\", linewidth=2)\n",
    "\n",
    "    plt.xlabel(\"Feature (X)\")\n",
    "    plt.ylabel(\"Target (y)\")\n",
    "    plt.title(title)\n",
    "    plt.legend()\n",
    "    plt.grid(True)\n",
    "    plt.show()\n"
   ]
  },
  {
   "cell_type": "markdown",
   "id": "higher-relations",
   "metadata": {},
   "source": [
    "#### Stochastic descent"
   ]
  },
  {
   "cell_type": "code",
   "execution_count": 272,
   "id": "charged-memory",
   "metadata": {},
   "outputs": [
    {
     "name": "stdout",
     "output_type": "stream",
     "text": [
      "Optimized Weights:\n",
      " [[0.00944735]\n",
      " [0.97544909]]\n"
     ]
    }
   ],
   "source": [
    "w_initial = np.zeros((2, 1))  \n",
    "alpha = 0.01  \n",
    "epsilon = 1e-5  \n",
    "epochs = 1000  \n",
    "\n",
    "w_optimized = fit_stoch(X_fr_final, y_fr_scaled, alpha, w_initial, epochs, epsilon)\n",
    "print(\"Optimized Weights:\\n\", w_optimized)"
   ]
  },
  {
   "cell_type": "markdown",
   "id": "dependent-concentration",
   "metadata": {},
   "source": [
    "Visualize the points of your dataset as well as the regression lines you obtain using matplotlib or another similar program."
   ]
  },
  {
   "cell_type": "code",
   "execution_count": 273,
   "id": "specific-least",
   "metadata": {},
   "outputs": [
    {
     "data": {
      "image/png": "[encoded data removed]",
      "text/plain": [
       "<Figure size 800x600 with 1 Axes>"
      ]
     },
     "metadata": {},
     "output_type": "display_data"
    }
   ],
   "source": [
    "plot_regression(X_fr_final, y_fr_scaled, w_optimized, title=\"SGD Regression Line\")"
   ]
  },
  {
   "cell_type": "markdown",
   "id": "sudden-collapse",
   "metadata": {},
   "source": [
    "### A solution to linear regression\n",
    "\n",
    "To help you start this assignment, your instructor wrote two Python notebooks that solve this exercise on linear regression. You can find them here: https://github.com/pnugues/edap01/tree/master/gradient_descent_practice\n",
    "\n",
    "2. The first notebook, `gradient_descent_numpy.ipynb`, uses Numpy. It is more compact, but you need to know a bit of numpy, for instance you multiply matrix `M` by matrix `N` with the operation `M @ N`\n",
    "1. The second notebook, `gradient_descent.ipynb`, only uses Python. The vector and matrix operations such as the dot product that are in the `vector.py` file. You can see how your instructor write the dot product or matrix multiplication operations so that there is no magic as with NumPy\n",
    "\n",
    "\n",
    "To run these programs, download them on your computer as well as the other program in the import list: vector.py\n",
    "\n",
    "The programs are also available as Python programs from\n",
    "https://github.com/pnugues/ilppp/tree/master/programs/ch04/python"
   ]
  },
  {
   "cell_type": "markdown",
   "id": "acoustic-register",
   "metadata": {},
   "source": [
    "## Classification\n",
    "You will use the same data set as for linear regression, but this time to classify a chapter as French or English. Given a pair of numbers corresponding the letter count and count of _A_, you will predict the language:\n",
    "1. $\\mathbf{x} = (35680, 2217)$ $\\to$ $y$ = English\n",
    "2. $\\mathbf{x} = (37497, 2641)$ $\\to$ $y$ = French"
   ]
  },
  {
   "cell_type": "markdown",
   "id": "surrounded-belgium",
   "metadata": {},
   "source": [
    "### The dataset\n",
    "You will use the arrays below:\n",
    "1. `X` contains the counts of letters and of _A_ s as well as a column of ones for the intercept;\n",
    "2. `y` contains the classes, where 0 is for English and 1 for French."
   ]
  },
  {
   "cell_type": "code",
   "execution_count": 274,
   "id": "acceptable-coordination",
   "metadata": {},
   "outputs": [],
   "source": [
    "X = np.array([[1.0, 35680.0, 2217.0],\n",
    "              [1.0, 42514.0, 2761.0],\n",
    "              [1.0, 15162.0, 990.0],\n",
    "              [1.0, 35298.0, 2274.0],\n",
    "              [1.0, 29800.0, 1865.0],\n",
    "              [1.0, 40255.0, 2606.0],\n",
    "              [1.0, 74532.0, 4805.0],\n",
    "              [1.0, 37464.0, 2396.0],\n",
    "              [1.0, 31030.0, 1993.0],\n",
    "              [1.0, 24843.0, 1627.0],\n",
    "              [1.0, 36172.0, 2375.0],\n",
    "              [1.0, 39552.0, 2560.0],\n",
    "              [1.0, 72545.0, 4597.0],\n",
    "              [1.0, 75352.0, 4871.0],\n",
    "              [1.0, 18031.0, 1119.0],\n",
    "              [1.0, 36961.0, 2503.0],\n",
    "              [1.0, 43621.0, 2992.0],\n",
    "              [1.0, 15694.0, 1042.0],\n",
    "              [1.0, 36231.0, 2487.0],\n",
    "              [1.0, 29945.0, 2014.0],\n",
    "              [1.0, 40588.0, 2805.0],\n",
    "              [1.0, 75255.0, 5062.0],\n",
    "              [1.0, 37709.0, 2643.0],\n",
    "              [1.0, 30899.0, 2126.0],\n",
    "              [1.0, 25486.0, 1784.0],\n",
    "              [1.0, 37497.0, 2641.0],\n",
    "              [1.0, 40398.0, 2766.0],\n",
    "              [1.0, 74105.0, 5047.0],\n",
    "              [1.0, 76725.0, 5312.0],\n",
    "              [1.0, 18317.0, 1215.0]])\n",
    "y = np.array([0.0, 0.0, 0.0, 0.0, 0.0, 0.0, 0.0, 0.0, 0.0, 0.0, 0.0, 0.0, 0.0, 0.0, 0.0,\n",
    "              1.0, 1.0, 1.0, 1.0, 1.0, 1.0, 1.0, 1.0, 1.0, 1.0, 1.0, 1.0, 1.0, 1.0, 1.0])"
   ]
  },
  {
   "cell_type": "markdown",
   "id": "collected-package",
   "metadata": {},
   "source": [
    "We visualize it"
   ]
  },
  {
   "cell_type": "code",
   "execution_count": 275,
   "id": "sudden-making",
   "metadata": {},
   "outputs": [],
   "source": [
    "x_fr = [x[1] for i, x in enumerate(X) if y[i] == 1]\n",
    "y_fr = [x[2] for i, x in enumerate(X) if y[i] == 1]\n",
    "x_en = [x[1] for i, x in enumerate(X) if y[i] == 0]\n",
    "y_en = [x[2] for i, x in enumerate(X) if y[i] == 0]"
   ]
  },
  {
   "cell_type": "code",
   "execution_count": 276,
   "id": "selective-retrieval",
   "metadata": {},
   "outputs": [
    {
     "data": {
      "text/plain": [
       "<matplotlib.collections.PathCollection at 0x71598ddf54b0>"
      ]
     },
     "execution_count": 276,
     "metadata": {},
     "output_type": "execute_result"
    },
    {
     "data": {
      "image/png": "[encoded data removed]",
      "text/plain": [
       "<Figure size 640x480 with 1 Axes>"
      ]
     },
     "metadata": {},
     "output_type": "display_data"
    }
   ],
   "source": [
    "plt.scatter(x_fr, y_fr, color='red')\n",
    "plt.scatter(x_en, y_en, color='blue')"
   ]
  },
  {
   "cell_type": "markdown",
   "id": "classified-chair",
   "metadata": {},
   "source": [
    "### Normalize the dataset"
   ]
  },
  {
   "cell_type": "markdown",
   "id": "norman-engagement",
   "metadata": {},
   "source": [
    "Gradient descent algorithms can be very sensitive to the range. Therefore, we normalize the dataset."
   ]
  },
  {
   "cell_type": "code",
   "execution_count": 277,
   "id": "abroad-clothing",
   "metadata": {},
   "outputs": [],
   "source": [
    "def normalize(Xy):\n",
    "    maxima = np.amax(Xy, axis=0)\n",
    "    Xy = 1/maxima * Xy\n",
    "    return (Xy, maxima)"
   ]
  },
  {
   "cell_type": "code",
   "execution_count": 278,
   "id": "intellectual-arcade",
   "metadata": {},
   "outputs": [
    {
     "data": {
      "text/plain": [
       "array([[1.        , 0.46503747, 0.41735693],\n",
       "       [1.        , 0.55410883, 0.51976657],\n",
       "       [1.        , 0.19761486, 0.18637048],\n",
       "       [1.        , 0.46005865, 0.42808735],\n",
       "       [1.        , 0.38840013, 0.35109187],\n",
       "       [1.        , 0.52466601, 0.49058735],\n",
       "       [1.        , 0.9714174 , 0.90455572],\n",
       "       [1.        , 0.48828935, 0.45105422],\n",
       "       [1.        , 0.40443141, 0.37518825],\n",
       "       [1.        , 0.32379277, 0.30628765],\n",
       "       [1.        , 0.47144998, 0.4471009 ],\n",
       "       [1.        , 0.51550342, 0.48192771],\n",
       "       [1.        , 0.94551971, 0.8653991 ],\n",
       "       [1.        , 0.98210492, 0.91698042],\n",
       "       [1.        , 0.23500815, 0.21065512],\n",
       "       [1.        , 0.48173346, 0.47119729],\n",
       "       [1.        , 0.56853698, 0.56325301],\n",
       "       [1.        , 0.20454871, 0.19615964],\n",
       "       [1.        , 0.47221896, 0.46818524],\n",
       "       [1.        , 0.39029   , 0.37914157],\n",
       "       [1.        , 0.52900619, 0.5280497 ],\n",
       "       [1.        , 0.98084066, 0.95293675],\n",
       "       [1.        , 0.49148257, 0.49755271],\n",
       "       [1.        , 0.40272401, 0.4002259 ],\n",
       "       [1.        , 0.33217335, 0.33584337],\n",
       "       [1.        , 0.48871945, 0.4971762 ],\n",
       "       [1.        , 0.52652981, 0.52070783],\n",
       "       [1.        , 0.96585207, 0.95011295],\n",
       "       [1.        , 1.        , 1.        ],\n",
       "       [1.        , 0.23873574, 0.22872741]])"
      ]
     },
     "execution_count": 278,
     "metadata": {},
     "output_type": "execute_result"
    }
   ],
   "source": [
    "X_norm, maxima = normalize(X)\n",
    "X_norm"
   ]
  },
  {
   "cell_type": "markdown",
   "id": "ancient-stewart",
   "metadata": {
    "tags": []
   },
   "source": [
    "## The Perceptron\n",
    "\n",
    "1. Write the perceptron program as explained in pages 700--702 in Russell-Norvig (pp. 723--725 in the 3rd ed.) and in the slides and run it on your data set. As suggested program structure, use two functions: \n",
    " * `fit(X, y)` that will return `w` (the model). You can choose a stochastic or batch variant;\n",
    " * `predict(X, w)` that will return `y_hat`. You can encapsulate these functions in a class and, of course, add more parameters.\n",
    "2. As a stop criterion, you will use the number of misclassified examples.\n",
    "3. You will report the parameters you have used and the weight vector\n",
    "\n",
    "You can use numpy or not. The next cells are just suggested steps. You can implement it your way."
   ]
  },
  {
   "cell_type": "markdown",
   "id": "worthy-singing",
   "metadata": {},
   "source": [
    "### The `predict(X, w)` function\n",
    "Write a `predict(X, w)` function that given a matrix of observations ${X}$ and a weight vector $\\mathbf{w}$ will return a $\\mathbf{\\hat{y}}$ vector classes (0 or 1)"
   ]
  },
  {
   "cell_type": "code",
   "execution_count": 279,
   "id": "applicable-insight",
   "metadata": {},
   "outputs": [],
   "source": [
    "def predict(X, w):\n",
    "    z = np.dot(X, w)\n",
    "\n",
    "    probabilities = 1 / (1 + np.exp(-z))\n",
    "\n",
    "    return (probabilities >= 5).astype(int)"
   ]
  },
  {
   "cell_type": "markdown",
   "id": "elementary-smoke",
   "metadata": {},
   "source": [
    "### The `fit(X, y)` function"
   ]
  },
  {
   "cell_type": "markdown",
   "id": "interior-voice",
   "metadata": {},
   "source": [
    "Write a `fit(X, y)` function that given a matrix of observations ${X}$ and a vector of responses $\\mathbf{y}$ will return a weight $\\mathbf{w}$ vector. You may use the other arguments of the function, notably the number of misclassified examples to define the stop condition."
   ]
  },
  {
   "cell_type": "code",
   "execution_count": 280,
   "id": "provincial-stand",
   "metadata": {},
   "outputs": [],
   "source": [
    "import random\n",
    "\n",
    "\n",
    "def fit_stoch(X, y,\n",
    "              epochs=1000,\n",
    "              max_misclassified=0,\n",
    "              verbose=True):\n",
    "    \n",
    "    w = np.zeros(X.shape[1])\n",
    "    \n",
    "    for epoch in range(epochs):\n",
    "        indices = np.arange(X.shape[0])  \n",
    "        np.random.shuffle(indices)  \n",
    "\n",
    "        misclassified_count = 0  \n",
    "\n",
    "        for i in indices:\n",
    "            xi = X[i]\n",
    "            yi = y[i]\n",
    "\n",
    "            z = np.dot(xi, w)\n",
    "            pred = 1 / (1 + np.exp(-z))  \n",
    "\n",
    "            error = pred - yi\n",
    "\n",
    "            w -= error * xi  \n",
    "\n",
    "            misclassified = (pred >= 0.5) != yi\n",
    "            misclassified_count += misclassified\n",
    "\n",
    "        if verbose and epoch % 100 == 0:\n",
    "            print(f\"Epoch {epoch}: Misclassified {misclassified_count}\")\n",
    "\n",
    "        if misclassified_count <= max_misclassified:\n",
    "            break\n",
    "\n",
    "    return w"
   ]
  },
  {
   "cell_type": "markdown",
   "id": "frozen-demand",
   "metadata": {},
   "source": [
    "### Fitting the dataset"
   ]
  },
  {
   "cell_type": "code",
   "execution_count": 281,
   "id": "chinese-serial",
   "metadata": {},
   "outputs": [
    {
     "name": "stdout",
     "output_type": "stream",
     "text": [
      "Epoch 0: Misclassified 11\n",
      "Epoch 100: Misclassified 13\n",
      "Epoch 200: Misclassified 12\n",
      "Epoch 300: Misclassified 9\n",
      "Epoch 400: Misclassified 7\n",
      "Epoch 500: Misclassified 2\n",
      "Epoch 600: Misclassified 3\n",
      "Epoch 700: Misclassified 4\n",
      "Epoch 800: Misclassified 4\n",
      "Epoch 900: Misclassified 4\n",
      "[ -0.76765335 -71.59069884  74.49609871]\n"
     ]
    }
   ],
   "source": [
    "w = fit_stoch(X_norm, y)\n",
    "print(w)"
   ]
  },
  {
   "cell_type": "code",
   "execution_count": 282,
   "id": "racial-antarctica",
   "metadata": {},
   "outputs": [
    {
     "name": "stdout",
     "output_type": "stream",
     "text": [
      "Restored weights [np.float64(-4077.774578301625), np.float64(-4.9565303650632), np.float64(74.49609871407621)]\n",
      "Weights with y set to 1 [np.float64(-54.73809566796979), np.float64(-0.06653409306824079), np.float64(1.0)]\n"
     ]
    }
   ],
   "source": [
    "w = [w[i] * maxima[-1] / maxima[i] for i in range(len(w))]\n",
    "print(\"Restored weights\", w)\n",
    "w = [w[j] / w[-1] for j in range(len(w))]\n",
    "print(\"Weights with y set to 1\", w)"
   ]
  },
  {
   "cell_type": "markdown",
   "id": "editorial-combination",
   "metadata": {},
   "source": [
    "### Visualizing the results"
   ]
  },
  {
   "cell_type": "code",
   "execution_count": 283,
   "id": "alone-granny",
   "metadata": {},
   "outputs": [
    {
     "data": {
      "text/plain": [
       "[<matplotlib.lines.Line2D at 0x71598ddb5e10>]"
      ]
     },
     "execution_count": 283,
     "metadata": {},
     "output_type": "execute_result"
    },
    {
     "data": {
      "image/png": "[encoded data removed]",
      "text/plain": [
       "<Figure size 640x480 with 1 Axes>"
      ]
     },
     "metadata": {},
     "output_type": "display_data"
    }
   ],
   "source": [
    "plt.scatter(x_fr, y_fr, color='red')\n",
    "plt.scatter(x_en, y_en, color='blue')\n",
    "plt.plot([min(x_fr + x_en), max(x_fr + x_en)],\n",
    "         [-w[1] * min(x_fr + x_en) - w[0], -w[1] * max(x_fr + x_en) - w[0]])"
   ]
  },
  {
   "cell_type": "markdown",
   "id": "grateful-liberia",
   "metadata": {},
   "source": [
    "### Evaluation\n",
    "Evaluate your perceptron using the leave-one-out cross validation method. You will have to train and run 30 models. In each train/run session, you will train on 29 samples and evaluate on the remaining sample. You have then either a correct or a wrong classification. You will sum these classifications, i.e. the number of correct classifications, to get your final evaluation, for instance 29/30."
   ]
  },
  {
   "cell_type": "code",
   "execution_count": 284,
   "id": "tight-pilot",
   "metadata": {},
   "outputs": [],
   "source": [
    "def leave_one_out_cross_val(X, y, fit_stoch):\n",
    "    score = 0\n",
    "    for i in range(len(y)):\n",
    "        X_train = np.delete(X, i, axis=0)\n",
    "        y_train = np.delete(y, i)\n",
    "\n",
    "        X_test = X[i].reshape(1, -1)  \n",
    "        y_test = y[i]\n",
    "\n",
    "        w = fit_stoch(X_train, y_train)\n",
    "        \n",
    "        z = np.dot(X_test, w)\n",
    "        \n",
    "        prediction = 1 / (1 + np.exp(-z))  \n",
    "        \n",
    "        predicted_class = 1 if prediction >= 0.5 else 0\n",
    "        \n",
    "        if predicted_class == y_test:\n",
    "            score += 1\n",
    "\n",
    "    return score / len(y)\n"
   ]
  },
  {
   "cell_type": "code",
   "execution_count": 285,
   "id": "transsexual-malpractice",
   "metadata": {},
   "outputs": [
    {
     "name": "stdout",
     "output_type": "stream",
     "text": [
      "Epoch 0: Misclassified 16\n",
      "Epoch 100: Misclassified 15\n",
      "Epoch 200: Misclassified 12\n",
      "Epoch 300: Misclassified 9\n",
      "Epoch 400: Misclassified 9\n",
      "Epoch 500: Misclassified 6\n",
      "Epoch 600: Misclassified 4\n",
      "Epoch 700: Misclassified 4\n",
      "Epoch 800: Misclassified 3\n",
      "Epoch 900: Misclassified 4\n",
      "Epoch 0: Misclassified 19\n",
      "Epoch 100: Misclassified 13\n",
      "Epoch 200: Misclassified 9\n",
      "Epoch 300: Misclassified 10\n",
      "Epoch 400: Misclassified 4\n",
      "Epoch 500: Misclassified 6\n",
      "Epoch 600: Misclassified 5\n",
      "Epoch 700: Misclassified 4\n",
      "Epoch 800: Misclassified 4\n",
      "Epoch 900: Misclassified 2\n",
      "Epoch 0: Misclassified 15\n",
      "Epoch 100: Misclassified 13\n",
      "Epoch 200: Misclassified 12\n",
      "Epoch 300: Misclassified 12\n",
      "Epoch 400: Misclassified 8\n",
      "Epoch 500: Misclassified 7\n",
      "Epoch 600: Misclassified 6\n",
      "Epoch 700: Misclassified 4\n",
      "Epoch 800: Misclassified 5\n",
      "Epoch 0: Misclassified 16\n",
      "Epoch 100: Misclassified 12\n",
      "Epoch 200: Misclassified 11\n",
      "Epoch 300: Misclassified 12\n",
      "Epoch 400: Misclassified 9\n",
      "Epoch 500: Misclassified 6\n",
      "Epoch 600: Misclassified 4\n",
      "Epoch 700: Misclassified 4\n",
      "Epoch 800: Misclassified 3\n",
      "Epoch 900: Misclassified 2\n",
      "Epoch 0: Misclassified 18\n",
      "Epoch 100: Misclassified 12\n",
      "Epoch 200: Misclassified 11\n",
      "Epoch 300: Misclassified 9\n",
      "Epoch 400: Misclassified 5\n",
      "Epoch 500: Misclassified 7\n",
      "Epoch 600: Misclassified 7\n",
      "Epoch 700: Misclassified 5\n",
      "Epoch 800: Misclassified 3\n",
      "Epoch 900: Misclassified 1\n",
      "Epoch 0: Misclassified 15\n",
      "Epoch 100: Misclassified 14\n",
      "Epoch 200: Misclassified 13\n",
      "Epoch 300: Misclassified 9\n",
      "Epoch 400: Misclassified 7\n",
      "Epoch 500: Misclassified 6\n",
      "Epoch 600: Misclassified 5\n",
      "Epoch 700: Misclassified 3\n",
      "Epoch 800: Misclassified 1\n",
      "Epoch 900: Misclassified 2\n",
      "Epoch 0: Misclassified 14\n",
      "Epoch 100: Misclassified 14\n",
      "Epoch 200: Misclassified 14\n",
      "Epoch 300: Misclassified 11\n",
      "Epoch 400: Misclassified 10\n",
      "Epoch 500: Misclassified 5\n",
      "Epoch 600: Misclassified 6\n",
      "Epoch 700: Misclassified 6\n",
      "Epoch 800: Misclassified 2\n",
      "Epoch 900: Misclassified 5\n",
      "Epoch 0: Misclassified 17\n",
      "Epoch 100: Misclassified 12\n",
      "Epoch 200: Misclassified 9\n",
      "Epoch 300: Misclassified 11\n",
      "Epoch 400: Misclassified 8\n",
      "Epoch 500: Misclassified 7\n",
      "Epoch 600: Misclassified 5\n",
      "Epoch 700: Misclassified 6\n",
      "Epoch 800: Misclassified 4\n",
      "Epoch 900: Misclassified 3\n",
      "Epoch 0: Misclassified 20\n",
      "Epoch 100: Misclassified 14\n",
      "Epoch 200: Misclassified 15\n",
      "Epoch 300: Misclassified 9\n",
      "Epoch 400: Misclassified 6\n",
      "Epoch 500: Misclassified 7\n",
      "Epoch 600: Misclassified 5\n",
      "Epoch 700: Misclassified 5\n",
      "Epoch 800: Misclassified 4\n",
      "Epoch 900: Misclassified 3\n",
      "Epoch 0: Misclassified 17\n",
      "Epoch 100: Misclassified 12\n",
      "Epoch 200: Misclassified 10\n",
      "Epoch 300: Misclassified 9\n",
      "Epoch 400: Misclassified 7\n",
      "Epoch 500: Misclassified 6\n",
      "Epoch 600: Misclassified 5\n",
      "Epoch 700: Misclassified 2\n",
      "Epoch 800: Misclassified 3\n",
      "Epoch 900: Misclassified 4\n",
      "Epoch 0: Misclassified 19\n",
      "Epoch 100: Misclassified 10\n",
      "Epoch 200: Misclassified 9\n",
      "Epoch 300: Misclassified 9\n",
      "Epoch 400: Misclassified 8\n",
      "Epoch 500: Misclassified 5\n",
      "Epoch 600: Misclassified 3\n",
      "Epoch 700: Misclassified 4\n",
      "Epoch 800: Misclassified 1\n",
      "Epoch 0: Misclassified 19\n",
      "Epoch 100: Misclassified 13\n",
      "Epoch 200: Misclassified 9\n",
      "Epoch 300: Misclassified 9\n",
      "Epoch 400: Misclassified 8\n",
      "Epoch 500: Misclassified 7\n",
      "Epoch 600: Misclassified 4\n",
      "Epoch 700: Misclassified 4\n",
      "Epoch 800: Misclassified 3\n",
      "Epoch 0: Misclassified 16\n",
      "Epoch 100: Misclassified 12\n",
      "Epoch 200: Misclassified 12\n",
      "Epoch 300: Misclassified 7\n",
      "Epoch 400: Misclassified 9\n",
      "Epoch 500: Misclassified 7\n",
      "Epoch 600: Misclassified 5\n",
      "Epoch 700: Misclassified 3\n",
      "Epoch 800: Misclassified 4\n",
      "Epoch 0: Misclassified 13\n",
      "Epoch 100: Misclassified 6\n",
      "Epoch 200: Misclassified 11\n",
      "Epoch 300: Misclassified 5\n",
      "Epoch 400: Misclassified 10\n",
      "Epoch 500: Misclassified 5\n",
      "Epoch 600: Misclassified 4\n",
      "Epoch 700: Misclassified 6\n",
      "Epoch 800: Misclassified 3\n",
      "Epoch 900: Misclassified 3\n",
      "Epoch 0: Misclassified 16\n",
      "Epoch 100: Misclassified 12\n",
      "Epoch 200: Misclassified 11\n",
      "Epoch 300: Misclassified 10\n",
      "Epoch 400: Misclassified 7\n",
      "Epoch 500: Misclassified 7\n",
      "Epoch 600: Misclassified 1\n",
      "Epoch 700: Misclassified 6\n",
      "Epoch 800: Misclassified 4\n",
      "Epoch 900: Misclassified 1\n",
      "Epoch 0: Misclassified 20\n",
      "Epoch 100: Misclassified 14\n",
      "Epoch 200: Misclassified 12\n",
      "Epoch 300: Misclassified 12\n",
      "Epoch 400: Misclassified 9\n",
      "Epoch 500: Misclassified 6\n",
      "Epoch 600: Misclassified 6\n",
      "Epoch 700: Misclassified 4\n",
      "Epoch 800: Misclassified 2\n",
      "Epoch 900: Misclassified 4\n",
      "Epoch 0: Misclassified 14\n",
      "Epoch 100: Misclassified 12\n",
      "Epoch 200: Misclassified 16\n",
      "Epoch 300: Misclassified 7\n",
      "Epoch 400: Misclassified 8\n",
      "Epoch 500: Misclassified 6\n",
      "Epoch 600: Misclassified 6\n",
      "Epoch 700: Misclassified 3\n",
      "Epoch 800: Misclassified 3\n",
      "Epoch 900: Misclassified 4\n",
      "Epoch 0: Misclassified 13\n",
      "Epoch 100: Misclassified 10\n",
      "Epoch 200: Misclassified 12\n",
      "Epoch 300: Misclassified 8\n",
      "Epoch 400: Misclassified 6\n",
      "Epoch 500: Misclassified 4\n",
      "Epoch 600: Misclassified 5\n",
      "Epoch 700: Misclassified 2\n",
      "Epoch 800: Misclassified 2\n",
      "Epoch 900: Misclassified 4\n",
      "Epoch 0: Misclassified 13\n",
      "Epoch 100: Misclassified 14\n",
      "Epoch 200: Misclassified 11\n",
      "Epoch 300: Misclassified 7\n",
      "Epoch 400: Misclassified 6\n",
      "Epoch 500: Misclassified 5\n",
      "Epoch 600: Misclassified 6\n",
      "Epoch 700: Misclassified 3\n",
      "Epoch 800: Misclassified 3\n",
      "Epoch 900: Misclassified 3\n",
      "Epoch 0: Misclassified 11\n",
      "Epoch 100: Misclassified 15\n",
      "Epoch 200: Misclassified 11\n",
      "Epoch 300: Misclassified 7\n",
      "Epoch 400: Misclassified 8\n",
      "Epoch 500: Misclassified 7\n",
      "Epoch 600: Misclassified 3\n",
      "Epoch 700: Misclassified 3\n",
      "Epoch 800: Misclassified 3\n",
      "Epoch 0: Misclassified 19\n",
      "Epoch 100: Misclassified 12\n",
      "Epoch 200: Misclassified 12\n",
      "Epoch 300: Misclassified 9\n",
      "Epoch 400: Misclassified 7\n",
      "Epoch 500: Misclassified 7\n",
      "Epoch 600: Misclassified 4\n",
      "Epoch 700: Misclassified 3\n",
      "Epoch 800: Misclassified 3\n",
      "Epoch 900: Misclassified 4\n",
      "Epoch 0: Misclassified 13\n",
      "Epoch 100: Misclassified 18\n",
      "Epoch 200: Misclassified 9\n",
      "Epoch 300: Misclassified 11\n",
      "Epoch 400: Misclassified 5\n",
      "Epoch 500: Misclassified 3\n",
      "Epoch 600: Misclassified 5\n",
      "Epoch 700: Misclassified 3\n",
      "Epoch 800: Misclassified 5\n",
      "Epoch 900: Misclassified 2\n",
      "Epoch 0: Misclassified 18\n",
      "Epoch 100: Misclassified 16\n",
      "Epoch 200: Misclassified 10\n",
      "Epoch 300: Misclassified 8\n",
      "Epoch 400: Misclassified 5\n",
      "Epoch 500: Misclassified 9\n",
      "Epoch 600: Misclassified 3\n",
      "Epoch 700: Misclassified 7\n",
      "Epoch 800: Misclassified 6\n",
      "Epoch 900: Misclassified 3\n",
      "Epoch 0: Misclassified 15\n",
      "Epoch 100: Misclassified 9\n",
      "Epoch 200: Misclassified 13\n",
      "Epoch 300: Misclassified 12\n",
      "Epoch 400: Misclassified 8\n",
      "Epoch 500: Misclassified 5\n",
      "Epoch 600: Misclassified 4\n",
      "Epoch 700: Misclassified 5\n",
      "Epoch 800: Misclassified 4\n",
      "Epoch 900: Misclassified 3\n",
      "Epoch 0: Misclassified 19\n",
      "Epoch 100: Misclassified 13\n",
      "Epoch 200: Misclassified 12\n",
      "Epoch 300: Misclassified 7\n",
      "Epoch 400: Misclassified 9\n",
      "Epoch 500: Misclassified 8\n",
      "Epoch 600: Misclassified 8\n",
      "Epoch 700: Misclassified 4\n",
      "Epoch 800: Misclassified 2\n",
      "Epoch 900: Misclassified 2\n",
      "Epoch 0: Misclassified 17\n",
      "Epoch 100: Misclassified 16\n",
      "Epoch 200: Misclassified 12\n",
      "Epoch 300: Misclassified 8\n",
      "Epoch 400: Misclassified 8\n",
      "Epoch 500: Misclassified 7\n",
      "Epoch 600: Misclassified 5\n",
      "Epoch 700: Misclassified 5\n",
      "Epoch 800: Misclassified 4\n",
      "Epoch 900: Misclassified 3\n",
      "Epoch 0: Misclassified 18\n",
      "Epoch 100: Misclassified 15\n",
      "Epoch 200: Misclassified 10\n",
      "Epoch 300: Misclassified 13\n",
      "Epoch 400: Misclassified 5\n",
      "Epoch 500: Misclassified 4\n",
      "Epoch 600: Misclassified 5\n",
      "Epoch 700: Misclassified 3\n",
      "Epoch 800: Misclassified 5\n",
      "Epoch 0: Misclassified 17\n",
      "Epoch 100: Misclassified 11\n",
      "Epoch 200: Misclassified 12\n",
      "Epoch 300: Misclassified 9\n",
      "Epoch 400: Misclassified 8\n",
      "Epoch 500: Misclassified 6\n",
      "Epoch 600: Misclassified 4\n",
      "Epoch 700: Misclassified 5\n",
      "Epoch 800: Misclassified 4\n",
      "Epoch 900: Misclassified 4\n",
      "Epoch 0: Misclassified 12\n",
      "Epoch 100: Misclassified 18\n",
      "Epoch 200: Misclassified 11\n",
      "Epoch 300: Misclassified 11\n",
      "Epoch 400: Misclassified 4\n",
      "Epoch 500: Misclassified 4\n",
      "Epoch 600: Misclassified 6\n",
      "Epoch 700: Misclassified 4\n",
      "Epoch 800: Misclassified 3\n",
      "Epoch 900: Misclassified 3\n",
      "Epoch 0: Misclassified 15\n",
      "Epoch 100: Misclassified 14\n",
      "Epoch 200: Misclassified 9\n",
      "Epoch 300: Misclassified 8\n",
      "Epoch 400: Misclassified 6\n",
      "Epoch 500: Misclassified 4\n",
      "Epoch 600: Misclassified 2\n",
      "Epoch 700: Misclassified 3\n",
      "Epoch 800: Misclassified 2\n",
      "Epoch 900: Misclassified 2\n",
      "Cross-validation accuracy (stochastic): 0.8\n"
     ]
    }
   ],
   "source": [
    "stoch_accuracy = leave_one_out_cross_val(X_norm, y, fit_stoch)\n",
    "print('Cross-validation accuracy (stochastic):', stoch_accuracy)"
   ]
  },
  {
   "cell_type": "markdown",
   "id": "abandoned-saint",
   "metadata": {},
   "source": [
    "## Logistic Regression\n",
    "From your perceptron program, implement logistic regression. You can either follow the description from the slides or from the textbook, S. Russell and R. Norvig, _Artificial Intelligence_, 2022, pages 702--704 (pp. 725--727 in the 3rd ed.). Note that the textbook uses a criterion that is rejected by most practioners. You can either implement the stochastic or the batch version of the algorithm, or both versions. As stop criterion, you will use either the norm of the gradient or the norm of the difference between two consecutive weight vectors. You will also set a maximal number of epochs. Run the resulting program on your dataset."
   ]
  },
  {
   "cell_type": "markdown",
   "id": "treated-affiliation",
   "metadata": {},
   "source": [
    "Write the logistic function, where the $\\mathbf{x}$ input is a vector of real numbers."
   ]
  },
  {
   "cell_type": "code",
   "execution_count": 286,
   "id": "composite-broadcast",
   "metadata": {},
   "outputs": [],
   "source": [
    "def logistic(x):\n",
    "    x = np.clip(x, -500, 500) \n",
    "    return 1 / (1 + np.exp(-x))"
   ]
  },
  {
   "cell_type": "markdown",
   "id": "funded-violation",
   "metadata": {},
   "source": [
    "### The `predict(X, w)` function"
   ]
  },
  {
   "cell_type": "markdown",
   "id": "alleged-delaware",
   "metadata": {},
   "source": [
    "Write a `predict_proba()` function that given a matrix of observations ${X}$ and a weight vector $\\mathbf{w}$ will return a vector of probabilities to belong to class 1: The vector will consist of $P(1|\\mathbf{x}_i)$ for all the $i$ rows of ${X}$."
   ]
  },
  {
   "cell_type": "code",
   "execution_count": 287,
   "id": "parental-winning",
   "metadata": {},
   "outputs": [],
   "source": [
    "def predict_proba(X, w):\n",
    "    return 1 / (1 + np.exp(-np.dot(X, w)))"
   ]
  },
  {
   "cell_type": "markdown",
   "id": "olive-equilibrium",
   "metadata": {},
   "source": [
    "Write a `predict(X, w)` function that given a matrix of observations ${X}$ and a weight vector $\\mathbf{w}$ will return the class. You will use `predict_proba()` and set the threshold to belong to class 1 to 0.5."
   ]
  },
  {
   "cell_type": "code",
   "execution_count": 288,
   "id": "directed-freeze",
   "metadata": {},
   "outputs": [],
   "source": [
    "def predict(X, w):\n",
    "    return (predict_proba(X, w) >= 0.5).astype(int)"
   ]
  },
  {
   "cell_type": "markdown",
   "id": "weird-replication",
   "metadata": {},
   "source": [
    "### The `fit(X, y)` function"
   ]
  },
  {
   "cell_type": "markdown",
   "id": "electric-bunny",
   "metadata": {},
   "source": [
    "You will now write the `fit(X, y)` function as with the perceptron. You may call it `fit_stoch(X, y)` or `fit_batch(X, y)`. Use the parameters given in the cell below."
   ]
  },
  {
   "cell_type": "code",
   "execution_count": 289,
   "id": "forward-concentrate",
   "metadata": {},
   "outputs": [],
   "source": [
    "import random\n",
    "\n",
    "\n",
    "def fit_batch(X, y, alpha=100,\n",
    "              epochs=500,\n",
    "              epsilon=1.0e-4,\n",
    "              verbose=False):\n",
    "    w = np.zeros(X.shape[1])\n",
    "\n",
    "    for epoch in range(epochs):\n",
    "        indices = np.arange(X.shape[0])\n",
    "        np.random.shuffle(indices)\n",
    "\n",
    "        gradient_norm = 0\n",
    "        \n",
    "        for i in indices:\n",
    "            xi = X[i]\n",
    "            yi = y[i]\n",
    "\n",
    "            z = np.dot(xi, w)\n",
    "\n",
    "            pred = logistic(z) \n",
    "\n",
    "            error = pred - yi\n",
    "            gradient = error * xi\n",
    "\n",
    "            w -= alpha * gradient\n",
    "\n",
    "            gradient_norm = np.linalg.norm(gradient)\n",
    "\n",
    "        if gradient_norm < epsilon:\n",
    "            if verbose:\n",
    "                print(f\"Converged at epoch {epoch}. Gradient norm: {gradient_norm}\")\n",
    "            break\n",
    "\n",
    "        if verbose and epoch % 100 == 0:\n",
    "            print(f\"Epoch {epoch}: Gradient norm {gradient_norm}\")\n",
    "\n",
    "    return w"
   ]
  },
  {
   "cell_type": "code",
   "execution_count": 290,
   "id": "presidential-adoption",
   "metadata": {},
   "outputs": [
    {
     "name": "stdout",
     "output_type": "stream",
     "text": [
      "Epoch 0: Misclassified 15\n",
      "Epoch 100: Misclassified 14\n",
      "Epoch 200: Misclassified 11\n",
      "Epoch 300: Misclassified 10\n",
      "Epoch 400: Misclassified 7\n",
      "Epoch 500: Misclassified 5\n",
      "Epoch 600: Misclassified 3\n",
      "Epoch 700: Misclassified 4\n",
      "Epoch 800: Misclassified 5\n",
      "[  0.34763751 -65.95883414  69.82834488]\n"
     ]
    }
   ],
   "source": [
    "w = fit_stoch(X_norm, y, verbose=True)\n",
    "print(w)"
   ]
  },
  {
   "cell_type": "code",
   "execution_count": 291,
   "id": "executed-history",
   "metadata": {},
   "outputs": [
    {
     "name": "stdout",
     "output_type": "stream",
     "text": [
      "Restored weights [np.float64(0.34763750978576724), np.float64(-0.000859678515981076), np.float64(0.01314539624943875)]\n",
      "Weights with y set to 1 [np.float64(26.44557099605193), np.float64(-0.06539768749974201), np.float64(1.0)]\n"
     ]
    }
   ],
   "source": [
    "w = [w[i] / maxima[i] for i in range(len(w))]\n",
    "print(\"Restored weights\", w)\n",
    "w = [w[j] / w[-1] for j in range(len(w))]\n",
    "print(\"Weights with y set to 1\", w)"
   ]
  },
  {
   "cell_type": "markdown",
   "id": "contemporary-correlation",
   "metadata": {},
   "source": [
    "### Visualizing the results"
   ]
  },
  {
   "cell_type": "code",
   "execution_count": 292,
   "id": "headed-award",
   "metadata": {},
   "outputs": [
    {
     "data": {
      "image/png": "[encoded data removed]",
      "text/plain": [
       "<Figure size 640x480 with 1 Axes>"
      ]
     },
     "metadata": {},
     "output_type": "display_data"
    }
   ],
   "source": [
    "plt.scatter(x_fr, y_fr, color='red')\n",
    "plt.scatter(x_en, y_en, color='blue')\n",
    "plt.plot([min(x_fr + x_en), max(x_fr + x_en)],\n",
    "         [-w[1] * min(x_fr + x_en) - w[0], -w[1] * max(x_fr + x_en) - w[0]])\n",
    "plt.show()"
   ]
  },
  {
   "cell_type": "markdown",
   "id": "exclusive-database",
   "metadata": {},
   "source": [
    "### Evaluation\n",
    "Evaluate your logistic regression using the leave-one-out cross validation method as with the perceptron"
   ]
  },
  {
   "cell_type": "code",
   "execution_count": 293,
   "id": "indoor-truck",
   "metadata": {},
   "outputs": [],
   "source": [
    "def leave_one_out_cross_val(X, y, fit_batch):\n",
    "    score = 0\n",
    "    for i in range(len(y)):\n",
    "        X_train = np.delete(X, i, axis=0)\n",
    "        y_train = np.delete(y, i)\n",
    "\n",
    "        X_test = X[i].reshape(1, -1)  \n",
    "        y_test = y[i]\n",
    "\n",
    "        w = fit_batch(X_train, y_train)\n",
    "        \n",
    "        z = np.dot(X_test, w)\n",
    "        \n",
    "        prediction = logistic(z) \n",
    "        \n",
    "        predicted_class = 1 if prediction >= 0.5 else 0\n",
    "        \n",
    "        if predicted_class == y_test:\n",
    "            score += 1\n",
    "\n",
    "    return score / len(y)\n"
   ]
  },
  {
   "cell_type": "code",
   "execution_count": 294,
   "id": "strong-alaska",
   "metadata": {},
   "outputs": [
    {
     "name": "stdout",
     "output_type": "stream",
     "text": [
      "Cross-validation accuracy (batch): 0.43333333333333335\n"
     ]
    }
   ],
   "source": [
    "stoch_accuracy = leave_one_out_cross_val(X, y, fit_batch)\n",
    "print('Cross-validation accuracy (batch):', stoch_accuracy)"
   ]
  },
  {
   "cell_type": "markdown",
   "id": "incident-future",
   "metadata": {},
   "source": [
    "## Visualizing the logistic surface"
   ]
  },
  {
   "cell_type": "code",
   "execution_count": 295,
   "id": "attached-occasion",
   "metadata": {},
   "outputs": [],
   "source": [
    "def plot_logistic_surf(x_range, y_range, w_opt):\n",
    "    x_axis, y_axis = np.meshgrid(x_range, y_range)\n",
    "\n",
    "    # We compute the probability surface as a function of x and y\n",
    "    # First generate the (1, x, y) tuples\n",
    "    grid = np.array([[[1.0, i, j] for j in y_range] for i in x_range])\n",
    "    # Then, compute logistic((1, x, y) . w_opt)\n",
    "    z_axis = logistic((grid @ w_opt))\n",
    "    return x_axis, y_axis, z_axis.T"
   ]
  },
  {
   "cell_type": "code",
   "execution_count": 296,
   "id": "harmful-identity",
   "metadata": {},
   "outputs": [
    {
     "data": {
      "image/png": "[encoded data removed]",
      "text/plain": [
       "<Figure size 640x480 with 2 Axes>"
      ]
     },
     "metadata": {},
     "output_type": "display_data"
    }
   ],
   "source": [
    "x_range = np.linspace(0, 100000, 200)\n",
    "y_range = np.linspace(0, 10000, 200)\n",
    "# w = [2.073225839414742, -0.049125455233437906, 0.7440143556104162]\n",
    "\n",
    "x_axis, y_axis, z_axis = plot_logistic_surf(x_range, y_range, w)\n",
    "\n",
    "fig = plt.figure()\n",
    "ax = Axes3D(fig, auto_add_to_figure=False)\n",
    "fig.add_axes(ax)\n",
    "\n",
    "surf = ax.plot_surface(y_axis, x_axis, z_axis, rstride=1, cstride=1, cmap=cm.coolwarm,\n",
    "                       linewidth=0, antialiased=False, alpha=0.2)\n",
    "fig.colorbar(surf, shrink=0.5, aspect=5)\n",
    "# We plot the observations\n",
    "for x, y_class in zip(X, y):\n",
    "    if y_class == 1:\n",
    "        ax.scatter(x[2], x[1], y_class, color='green', marker='x')\n",
    "    else:\n",
    "        ax.scatter(x[2], x[1], y_class, color='red', marker='x')\n",
    "\n",
    "ax.elev = 30\n",
    "ax.azim = -150\n",
    "plt.show()"
   ]
  },
  {
   "cell_type": "markdown",
   "id": "internal-harassment",
   "metadata": {},
   "source": [
    "## Programming logistic regression with popular APIs\n",
    "Should you use logistic regression in a project, you will probably resort to existing libraries. In three separate notebooks, you will apply the logistic regression classification with three popular APIs:\n",
    "1. sklearn\n",
    "2. PyTorch\n",
    "3. Keras\n",
    "\n",
    "`sklearn` is included in anaconda.\n",
    "You will install the rest, ans possibly more, with:\n",
    "```\n",
    "pip2 install --upgrade keras \n",
    "pip3 install --upgrade torch\n",
    "```\n",
    "You will read and run the code in these three separate notebooks."
   ]
  },
  {
   "cell_type": "markdown",
   "id": "promising-spring",
   "metadata": {},
   "source": [
    "## Reading\n",
    "You will read the article *An overview of gradient descent optimization algorithms* by Ruder (2017) and you will outline the main characteristics of all the optimization algorithms the author describes. This part should be of about one to two pages. Link to the article: https://arxiv.org/abs/1609.04747.\n",
    "\n",
    "You can also visualize the descents of the algorithm variants on Ruder's webpage: https://www.ruder.io/optimizing-gradient-descent/.\n",
    "\n",
    "If you understand French, or using Google translate, you may also want to read the original article on gradient descent by Cauchy here:  https://gallica.bnf.fr/ark:/12148/bpt6k2982c/f540.item.\n"
   ]
  },
  {
   "cell_type": "markdown",
   "id": "level-lodging",
   "metadata": {},
   "source": [
    "### Report\n",
    "\n",
    "The assignment must be documented in the report, which should contain the following:\n",
    "\n",
    "*   The name of the author, the title of the assignment, and any relevant information on the front page;\n",
    "*   A presentation of the assignment and the possible improvements you would have brought;\n",
    "*   A presentation of your implementation;\n",
    "*   A print-out of the example set(s) and the resulting weight vectors;\n",
    "*   Comments on the results you have obtained, including your cross validation;\n",
    "*   A short dissertation on the optimization algorithms from Ruder's paper.\n",
    "\n",
    "Please, typeset and format your report consistently. You must use Latex. Documents written using MS Word or any similar format will not be considered.\n",
    "\n",
    "You may have a look at the code in the textbook code repository (or any other implementations), but the code you hand in must be your work."
   ]
  },
  {
   "cell_type": "markdown",
   "id": "damaged-blackberry",
   "metadata": {},
   "source": [
    "## Submission\n",
    "Submit the notebook and the report to Canvas (two files). Do not include the code printout in the report, but only comments on its interesting parts. You will submit the notebook as a separate file."
   ]
  },
  {
   "cell_type": "code",
   "execution_count": null,
   "id": "adjacent-guarantee",
   "metadata": {},
   "outputs": [],
   "source": []
  },
  {
   "cell_type": "code",
   "execution_count": null,
   "id": "224e0ce4",
   "metadata": {},
   "outputs": [],
   "source": []
  }
 ],
 "metadata": {
  "kernelspec": {
   "display_name": "Python 3",
   "language": "python",
   "name": "python3"
  },
  "language_info": {
   "codemirror_mode": {
    "name": "ipython",
    "version": 3
   },
   "file_extension": ".py",
   "mimetype": "text/x-python",
   "name": "python",
   "nbconvert_exporter": "python",
   "pygments_lexer": "ipython3",
   "version": "3.10.12"
  }
 },
 "nbformat": 4,
 "nbformat_minor": 5
}
